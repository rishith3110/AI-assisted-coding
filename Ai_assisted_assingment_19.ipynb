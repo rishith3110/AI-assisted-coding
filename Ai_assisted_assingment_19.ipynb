{
  "nbformat": 4,
  "nbformat_minor": 0,
  "metadata": {
    "colab": {
      "provenance": []
    },
    "kernelspec": {
      "name": "python3",
      "display_name": "Python 3"
    },
    "language_info": {
      "name": "python"
    }
  },
  "cells": [
    {
      "cell_type": "code",
      "execution_count": null,
      "metadata": {
        "id": "6Ck6gwEFQsZR"
      },
      "outputs": [],
      "source": []
    },
    {
      "cell_type": "markdown",
      "source": [
        "Task 1 : Translate a Simple Program (Python → JavaScript)\n",
        "• Instructions:\n",
        "• Write a Python function print_numbers() that prints the\n",
        "first 10 natural numbers using a loop.\n",
        "• Translate the function into JavaScript as a reusable\n",
        "function printNumbers().\n",
        "• Call the function in both languages to display results.\n",
        "\n",
        "prompt : generate and Translate the following Python code into JavaScript.first 10 natural numbers using a loop.\n",
        "• Translate the function into JavaScript as a reusable\n",
        "function printNumbers().\n",
        "• Call the function in both languages to display results."
      ],
      "metadata": {
        "id": "7Cgjui39QtGq"
      }
    },
    {
      "cell_type": "code",
      "metadata": {
        "colab": {
          "base_uri": "https://localhost:8080/"
        },
        "id": "292cabf7",
        "outputId": "3fdc2e16-d322-4c2b-8a17-24689c0ec126"
      },
      "source": [
        "def print_numbers_python():\n",
        "  print(\"Python output:\")\n",
        "  for i in range(1, 11):\n",
        "    print(i)\n",
        "\n",
        "print_numbers_python()"
      ],
      "execution_count": 1,
      "outputs": [
        {
          "output_type": "stream",
          "name": "stdout",
          "text": [
            "Python output:\n",
            "1\n",
            "2\n",
            "3\n",
            "4\n",
            "5\n",
            "6\n",
            "7\n",
            "8\n",
            "9\n",
            "10\n"
          ]
        }
      ]
    },
    {
      "cell_type": "code",
      "metadata": {
        "colab": {
          "base_uri": "https://localhost:8080/",
          "height": 17
        },
        "id": "c35e5879",
        "outputId": "cf2de981-0cd6-400b-d1b7-3aec1ff8cc31"
      },
      "source": [
        "%%javascript\n",
        "function printNumbersJavaScript() {\n",
        "  /**\n",
        "   * Prints the first 10 natural numbers using a loop.\n",
        "   */\n",
        "  console.log(\"JavaScript output:\");\n",
        "  for (let i = 1; i <= 10; i++) {\n",
        "    console.log(i);\n",
        "  }\n",
        "}\n",
        "\n",
        "printNumbersJavaScript();"
      ],
      "execution_count": 8,
      "outputs": [
        {
          "output_type": "display_data",
          "data": {
            "text/plain": [
              "<IPython.core.display.Javascript object>"
            ],
            "application/javascript": [
              "function printNumbersJavaScript() {\n",
              "  /**\n",
              "   * Prints the first 10 natural numbers using a loop.\n",
              "   */\n",
              "  console.log(\"JavaScript output:\");\n",
              "  for (let i = 1; i <= 10; i++) {\n",
              "    console.log(i);\n",
              "  }\n",
              "}\n",
              "\n",
              "// Call the JavaScript function\n",
              "printNumbersJavaScript();\n"
            ]
          },
          "metadata": {}
        }
      ]
    },
    {
      "cell_type": "markdown",
      "source": [
        "Task 2: Convert Conditional Statements (Java → Python)\n",
        "\n",
        "prompt : generate a java method checkNumber(int num) that checks if\n",
        "a number is positive, negative, or zero.\n",
        "• Translate the method into a Python function\n",
        "check_number(num).\n",
        "• Call the function/method with different inputs and\n",
        "compare outputs."
      ],
      "metadata": {
        "id": "YmRep4PrSmgw"
      }
    },
    {
      "cell_type": "markdown",
      "metadata": {
        "id": "47174697"
      },
      "source": [
        "# Task\n",
        "Generate a Java method `checkNumber(int num)` that checks if a number is positive, negative, or zero. Translate the method into a Python function `check_number(num)`. Call the function/method with different inputs and compare outputs."
      ]
    },
    {
      "cell_type": "markdown",
      "metadata": {
        "id": "bdd047ba"
      },
      "source": [
        "## Generate java code\n",
        "\n",
        "### Subtask:\n",
        "Generate a Java method `checkNumber(int num)` that checks if a number is positive, negative, or zero.\n"
      ]
    },
    {
      "cell_type": "markdown",
      "metadata": {
        "id": "66484042"
      },
      "source": [
        "**Reasoning**:\n",
        "Write the Java code for the `checkNumber` method to a `.java` file using `%%writefile`.\n",
        "\n"
      ]
    },
    {
      "cell_type": "code",
      "metadata": {
        "colab": {
          "base_uri": "https://localhost:8080/"
        },
        "id": "a763f2e2",
        "outputId": "7607191b-fd76-4b58-d1c5-302a133b0359"
      },
      "source": [
        "%%writefile CheckNumber.java\n",
        "public class CheckNumber {\n",
        "    public static void checkNumber(int num) {\n",
        "        if (num > 0) {\n",
        "            System.out.println(\"The number is positive\");\n",
        "        } else if (num < 0) {\n",
        "            System.out.println(\"The number is negative\");\n",
        "        } else {\n",
        "            System.out.println(\"The number is zero\");\n",
        "        }\n",
        "    }\n",
        "\n",
        "    public static void main(String[] args) {\n",
        "        checkNumber(10);\n",
        "        checkNumber(-5);\n",
        "        checkNumber(0);\n",
        "    }\n",
        "}"
      ],
      "execution_count": 9,
      "outputs": [
        {
          "output_type": "stream",
          "name": "stdout",
          "text": [
            "Writing CheckNumber.java\n"
          ]
        }
      ]
    },
    {
      "cell_type": "markdown",
      "metadata": {
        "id": "021a4176"
      },
      "source": [
        "**Reasoning**:\n",
        "Compile the Java code using `javac`.\n",
        "\n"
      ]
    },
    {
      "cell_type": "code",
      "metadata": {
        "id": "f364c1b6"
      },
      "source": [
        "!javac CheckNumber.java"
      ],
      "execution_count": 10,
      "outputs": []
    },
    {
      "cell_type": "markdown",
      "metadata": {
        "id": "e99e1a3e"
      },
      "source": [
        "**Reasoning**:\n",
        "Run the compiled Java code using `java`.\n",
        "\n"
      ]
    },
    {
      "cell_type": "code",
      "metadata": {
        "colab": {
          "base_uri": "https://localhost:8080/"
        },
        "id": "2b623844",
        "outputId": "ca3a66d0-92af-4dd4-ef3c-6da8cd71de71"
      },
      "source": [
        "!java CheckNumber"
      ],
      "execution_count": 11,
      "outputs": [
        {
          "output_type": "stream",
          "name": "stdout",
          "text": [
            "The number is positive\n",
            "The number is negative\n",
            "The number is zero\n"
          ]
        }
      ]
    },
    {
      "cell_type": "markdown",
      "metadata": {
        "id": "83957ead"
      },
      "source": [
        "## Generate python code\n",
        "\n",
        "### Subtask:\n",
        "Translate the Java method into a Python function `check_number(num)`.\n"
      ]
    },
    {
      "cell_type": "markdown",
      "metadata": {
        "id": "ce7d8bc2"
      },
      "source": [
        "**Reasoning**:\n",
        "Define the Python function `check_number` that translates the logic from the Java `checkNumber` method using if, elif, and else statements.\n",
        "\n"
      ]
    },
    {
      "cell_type": "code",
      "metadata": {
        "id": "f6aad348"
      },
      "source": [
        "def check_number(num):\n",
        "  \"\"\"\n",
        "  Checks if a number is positive, negative, or zero.\n",
        "\n",
        "  Args:\n",
        "    num: The number to check.\n",
        "  \"\"\"\n",
        "  if num > 0:\n",
        "    print(\"The number is positive\")\n",
        "  elif num < 0:\n",
        "    print(\"The number is negative\")\n",
        "  else:\n",
        "    print(\"The number is zero\")"
      ],
      "execution_count": 12,
      "outputs": []
    },
    {
      "cell_type": "markdown",
      "metadata": {
        "id": "c0259732"
      },
      "source": [
        "## Generate code to call and compare\n",
        "\n",
        "### Subtask:\n",
        "Generate code to call both the Java method and the Python function with different inputs and compare their outputs.\n"
      ]
    },
    {
      "cell_type": "markdown",
      "metadata": {
        "id": "63061c1c"
      },
      "source": [
        "**Reasoning**:\n",
        "Call the Python function `check_number` with different inputs as requested in the instructions.\n",
        "\n"
      ]
    },
    {
      "cell_type": "code",
      "metadata": {
        "colab": {
          "base_uri": "https://localhost:8080/"
        },
        "id": "c6e8fbe8",
        "outputId": "142ba0a3-3695-476f-e165-27ef152d4839"
      },
      "source": [
        "print(\"Python output:\")\n",
        "check_number(25)\n",
        "check_number(-100)\n",
        "check_number(0)"
      ],
      "execution_count": 13,
      "outputs": [
        {
          "output_type": "stream",
          "name": "stdout",
          "text": [
            "Python output:\n",
            "The number is positive\n",
            "The number is negative\n",
            "The number is zero\n"
          ]
        }
      ]
    },
    {
      "cell_type": "markdown",
      "source": [
        "Task 3: Translate Recursive Function (Python → C++)\n",
        "\n",
        "prompt : generate a Python function factorial(n) that calculates\n",
        "factorial of a number using recursion.\n",
        "• Translate the same into a C++ function int factorial(int n).\n",
        "• Call the function in both languages with inputs 5 and 0."
      ],
      "metadata": {
        "id": "_RSpmh4FUZF6"
      }
    },
    {
      "cell_type": "markdown",
      "metadata": {
        "id": "879d5634"
      },
      "source": [
        "# Task\n",
        "Generate a Python function `factorial(n)` that calculates factorial of a number using recursion. Translate the same into a C++ function `int factorial(int n)`. Call the function in both languages with inputs 5 and 0."
      ]
    },
    {
      "cell_type": "markdown",
      "metadata": {
        "id": "9463423f"
      },
      "source": [
        "## Generate python function\n",
        "\n",
        "### Subtask:\n",
        "Generate a Python function `factorial(n)` that calculates factorial of a number using recursion.\n"
      ]
    },
    {
      "cell_type": "markdown",
      "metadata": {
        "id": "9cdf06a7"
      },
      "source": [
        "**Reasoning**:\n",
        "Define the Python function `factorial` with the specified recursive logic.\n",
        "\n"
      ]
    },
    {
      "cell_type": "code",
      "metadata": {
        "id": "ef431b6c"
      },
      "source": [
        "def factorial(n):\n",
        "  \"\"\"\n",
        "  Calculates the factorial of a non-negative integer using recursion.\n",
        "\n",
        "  Args:\n",
        "    n: A non-negative integer.\n",
        "\n",
        "  Returns:\n",
        "    The factorial of n.\n",
        "  \"\"\"\n",
        "  if n == 0:\n",
        "    return 1\n",
        "  else:\n",
        "    return n * factorial(n - 1)"
      ],
      "execution_count": 14,
      "outputs": []
    },
    {
      "cell_type": "markdown",
      "metadata": {
        "id": "7c57f614"
      },
      "source": [
        "## Generate c++ function\n",
        "\n",
        "### Subtask:\n",
        "Translate the Python function into a C++ function `int factorial(int n)`.\n"
      ]
    },
    {
      "cell_type": "markdown",
      "metadata": {
        "id": "524bb460"
      },
      "source": [
        "**Reasoning**:\n",
        "Write the C++ code for the recursive factorial function and a main function to demonstrate its usage, writing the code to a file named factorial.cpp using %%writefile.\n",
        "\n"
      ]
    },
    {
      "cell_type": "code",
      "metadata": {
        "colab": {
          "base_uri": "https://localhost:8080/"
        },
        "id": "a1276c99",
        "outputId": "a8e1a6df-4478-4927-b05f-14d6775bdf23"
      },
      "source": [
        "%%writefile factorial.cpp\n",
        "#include <iostream>\n",
        "\n",
        "int factorial(int n) {\n",
        "    /**\n",
        "     * Calculates the factorial of a non-negative integer using recursion.\n",
        "     *\n",
        "     * Args:\n",
        "     *   n: A non-negative integer.\n",
        "     *\n",
        "     * Returns:\n",
        "     *   The factorial of n.\n",
        "     */\n",
        "    if (n == 0) {\n",
        "        return 1;\n",
        "    } else {\n",
        "        return n * factorial(n - 1);\n",
        "    }\n",
        "}\n",
        "\n",
        "int main() {\n",
        "    std::cout << \"Factorial of 5: \" << factorial(5) << std::endl;\n",
        "    std::cout << \"Factorial of 0: \" << factorial(0) << std::endl;\n",
        "    return 0;\n",
        "}"
      ],
      "execution_count": 15,
      "outputs": [
        {
          "output_type": "stream",
          "name": "stdout",
          "text": [
            "Writing factorial.cpp\n"
          ]
        }
      ]
    },
    {
      "cell_type": "markdown",
      "metadata": {
        "id": "508adc4e"
      },
      "source": [
        "## Generate code to call and compare\n",
        "\n",
        "### Subtask:\n",
        "Generate code to call both the Python and C++ functions with inputs 5 and 0.\n"
      ]
    },
    {
      "cell_type": "markdown",
      "metadata": {
        "id": "4c6439f6"
      },
      "source": [
        "**Reasoning**:\n",
        "Call the Python factorial function with inputs 5 and 0 and print the results, including a label indicating they are from Python output.\n",
        "\n"
      ]
    },
    {
      "cell_type": "code",
      "metadata": {
        "colab": {
          "base_uri": "https://localhost:8080/"
        },
        "id": "d1929436",
        "outputId": "7578d8dc-7e62-46a0-e40f-03ccd16e636f"
      },
      "source": [
        "print(\"Python output:\")\n",
        "print(\"Factorial of 5:\", factorial(5))\n",
        "print(\"Factorial of 0:\", factorial(0))"
      ],
      "execution_count": 16,
      "outputs": [
        {
          "output_type": "stream",
          "name": "stdout",
          "text": [
            "Python output:\n",
            "Factorial of 5: 120\n",
            "Factorial of 0: 1\n"
          ]
        }
      ]
    },
    {
      "cell_type": "markdown",
      "metadata": {
        "id": "c14f10da"
      },
      "source": [
        "**Reasoning**:\n",
        "Compile the C++ code using g++ and run the compiled C++ executable to print the output, including a label indicating it is from C++ output.\n",
        "\n"
      ]
    },
    {
      "cell_type": "code",
      "metadata": {
        "colab": {
          "base_uri": "https://localhost:8080/"
        },
        "id": "69fa9ac0",
        "outputId": "a0d4c36c-a649-420d-a2dc-9766f44ce5fb"
      },
      "source": [
        "!g++ factorial.cpp -o factorial_cpp\n",
        "!./factorial_cpp"
      ],
      "execution_count": 17,
      "outputs": [
        {
          "output_type": "stream",
          "name": "stdout",
          "text": [
            "Factorial of 5: 120\n",
            "Factorial of 0: 1\n"
          ]
        }
      ]
    },
    {
      "cell_type": "markdown",
      "source": [
        "Task 4: Data Structures with Functions (JavaScript → Python)\n",
        "\n",
        "prompt : generate a avaScript function printStudents(students) that\n",
        "takes an array of student names and prints each name.\n",
        "• Translate it into a Python function\n",
        "print_students(students) using a list.\n",
        "• Test both functions with sample student names."
      ],
      "metadata": {
        "id": "8Qe8qUoyWZ5a"
      }
    },
    {
      "cell_type": "markdown",
      "metadata": {
        "id": "2ef1fb6d"
      },
      "source": [
        "# Task\n",
        "Generate a JavaScript function `printStudents(students)` that takes an array of student names and prints each name. Translate it into a Python function `print_students(students)` using a list. Test both functions with sample student names."
      ]
    },
    {
      "cell_type": "markdown",
      "metadata": {
        "id": "fef441a9"
      },
      "source": [
        "## Generate javascript function\n",
        "\n",
        "### Subtask:\n",
        "Generate a JavaScript function `printStudents(students)` that takes an array of student names and prints each name.\n"
      ]
    },
    {
      "cell_type": "markdown",
      "metadata": {
        "id": "6fa1081a"
      },
      "source": [
        "**Reasoning**:\n",
        "Define the JavaScript function `printStudents` that takes an array of student names and prints each name as described in the instructions.\n",
        "\n"
      ]
    },
    {
      "cell_type": "code",
      "metadata": {
        "id": "71e64edd"
      },
      "source": [
        "%%javascript\n",
        "function printStudents(students) {\n",
        "  /**\n",
        "   * Prints each student name from an array.\n",
        "   */\n",
        "  console.log(\"JavaScript output:\");\n",
        "  students.forEach(function(student) {\n",
        "    console.log(student);\n",
        "  });\n",
        "}"
      ],
      "execution_count": null,
      "outputs": []
    },
    {
      "cell_type": "markdown",
      "metadata": {
        "id": "43289b0e"
      },
      "source": [
        "## Generate python function\n",
        "\n",
        "### Subtask:\n",
        "Translate the JavaScript function into a Python function `print_students(students)` using a list.\n"
      ]
    },
    {
      "cell_type": "markdown",
      "metadata": {
        "id": "95e7dba5"
      },
      "source": [
        "**Reasoning**:\n",
        "Define the Python function `print_students` that takes a list of students and prints each name.\n",
        "\n"
      ]
    },
    {
      "cell_type": "code",
      "metadata": {
        "id": "05ed3a13"
      },
      "source": [
        "def print_students(students):\n",
        "  \"\"\"\n",
        "  Prints each student name from a list.\n",
        "\n",
        "  Args:\n",
        "    students: A list of student names.\n",
        "  \"\"\"\n",
        "  print(\"Python output:\")\n",
        "  for student in students:\n",
        "    print(student)"
      ],
      "execution_count": 18,
      "outputs": []
    },
    {
      "cell_type": "markdown",
      "metadata": {
        "id": "982ab6c1"
      },
      "source": [
        "## Generate code to call and compare\n",
        "\n",
        "### Subtask:\n",
        "Generate code to call both the JavaScript and Python functions with sample student names.\n"
      ]
    },
    {
      "cell_type": "markdown",
      "metadata": {
        "id": "75c786ba"
      },
      "source": [
        "**Reasoning**:\n",
        "Call the JavaScript function with a sample array of student names and call the Python function with the same sample list of student names to compare outputs.\n",
        "\n"
      ]
    },
    {
      "cell_type": "code",
      "metadata": {
        "colab": {
          "base_uri": "https://localhost:8080/",
          "height": 17
        },
        "id": "02b62fc3",
        "outputId": "04353db3-7c31-41a4-a5d0-0424740af32f"
      },
      "source": [
        "%%javascript\n",
        "printStudents([\"Alice\", \"Bob\", \"Charlie\"]);\n"
      ],
      "execution_count": 19,
      "outputs": [
        {
          "output_type": "display_data",
          "data": {
            "text/plain": [
              "<IPython.core.display.Javascript object>"
            ],
            "application/javascript": [
              "printStudents([\"Alice\", \"Bob\", \"Charlie\"]);\n"
            ]
          },
          "metadata": {}
        }
      ]
    },
    {
      "cell_type": "markdown",
      "metadata": {
        "id": "7681b672"
      },
      "source": [
        "**Reasoning**:\n",
        "Call the Python function with the same sample list of student names used for the JavaScript function call.\n",
        "\n"
      ]
    },
    {
      "cell_type": "code",
      "metadata": {
        "colab": {
          "base_uri": "https://localhost:8080/"
        },
        "id": "2f14cb12",
        "outputId": "a366e5d5-80c1-43cb-f041-ba27ea622825"
      },
      "source": [
        "print_students([\"Alice\", \"Bob\", \"Charlie\"])"
      ],
      "execution_count": 20,
      "outputs": [
        {
          "output_type": "stream",
          "name": "stdout",
          "text": [
            "Python output:\n",
            "Alice\n",
            "Bob\n",
            "Charlie\n"
          ]
        }
      ]
    },
    {
      "cell_type": "markdown",
      "source": [
        "Task 5: Class & Object Translation (Python → Java)\n",
        "\n",
        "prompt : generate a Python class Car with attributes: brand, model,\n",
        "year.\n",
        "2. Add a method display_details() that prints car details.\n",
        "3. Translate the same into a Java class Car with attributes\n",
        "and a method displayDetails().\n",
        "4. Create an object in both languages and call the method."
      ],
      "metadata": {
        "id": "90WKjhCzYa6G"
      }
    },
    {
      "cell_type": "markdown",
      "metadata": {
        "id": "fac38bd0"
      },
      "source": [
        "# Task\n",
        "Generate a Python class `Car` with attributes: `brand`, `model`, `year`. Add a method `display_details()` that prints car details. Translate the same into a Java class `Car` with attributes and a method `displayDetails()`. Create an object in both languages and call the method."
      ]
    },
    {
      "cell_type": "markdown",
      "metadata": {
        "id": "feaf8f05"
      },
      "source": [
        "## Generate python class\n",
        "\n",
        "### Subtask:\n",
        "Generate a Python class `Car` with attributes: `brand`, `model`, `year`, and a method `display_details()` that prints car details.\n"
      ]
    },
    {
      "cell_type": "markdown",
      "metadata": {
        "id": "1e1108b1"
      },
      "source": [
        "**Reasoning**:\n",
        "Define the Python Car class with the specified attributes and the display_details method.\n",
        "\n"
      ]
    },
    {
      "cell_type": "code",
      "metadata": {
        "id": "cbeb6977"
      },
      "source": [
        "class Car:\n",
        "  \"\"\"\n",
        "  Represents a car with brand, model, and year attributes.\n",
        "  \"\"\"\n",
        "\n",
        "  def __init__(self, brand, model, year):\n",
        "    \"\"\"\n",
        "    Initializes a Car object.\n",
        "\n",
        "    Args:\n",
        "      brand: The brand of the car.\n",
        "      model: The model of the car.\n",
        "      year: The manufacturing year of the car.\n",
        "    \"\"\"\n",
        "    self.brand = brand\n",
        "    self.model = model\n",
        "    self.year = year\n",
        "\n",
        "  def display_details(self):\n",
        "    \"\"\"\n",
        "    Prints the details of the car.\n",
        "    \"\"\"\n",
        "    print(f\"Brand: {self.brand}, Model: {self.model}, Year: {self.year}\")\n"
      ],
      "execution_count": 21,
      "outputs": []
    },
    {
      "cell_type": "markdown",
      "metadata": {
        "id": "87f45aa5"
      },
      "source": [
        "## Generate java class\n",
        "\n",
        "### Subtask:\n",
        "Translate the Python class into a Java class `Car` with attributes and a method `displayDetails()`.\n"
      ]
    },
    {
      "cell_type": "markdown",
      "metadata": {
        "id": "458c8622"
      },
      "source": [
        "**Reasoning**:\n",
        "Write the Java code for the Car class to a .java file using %%writefile.\n",
        "\n"
      ]
    },
    {
      "cell_type": "code",
      "metadata": {
        "colab": {
          "base_uri": "https://localhost:8080/"
        },
        "id": "051351d7",
        "outputId": "b78bfdca-cf07-4993-ece4-3b8f10139707"
      },
      "source": [
        "%%writefile Car.java\n",
        "public class Car {\n",
        "    private String brand;\n",
        "    private String model;\n",
        "    private int year;\n",
        "\n",
        "    public Car(String brand, String model, int year) {\n",
        "        this.brand = brand;\n",
        "        this.model = model;\n",
        "        this.year = year;\n",
        "    }\n",
        "\n",
        "    public void displayDetails() {\n",
        "        System.out.println(\"Brand: \" + this.brand + \", Model: \" + this.model + \", Year: \" + this.year);\n",
        "    }\n",
        "\n",
        "    public static void main(String[] args) {\n",
        "        Car myCar = new Car(\"Toyota\", \"Camry\", 2022);\n",
        "        myCar.displayDetails();\n",
        "    }\n",
        "}"
      ],
      "execution_count": 22,
      "outputs": [
        {
          "output_type": "stream",
          "name": "stdout",
          "text": [
            "Writing Car.java\n"
          ]
        }
      ]
    },
    {
      "cell_type": "markdown",
      "metadata": {
        "id": "540ea429"
      },
      "source": [
        "**Reasoning**:\n",
        "Compile the Java code using javac.\n",
        "\n"
      ]
    },
    {
      "cell_type": "code",
      "metadata": {
        "id": "18548da6"
      },
      "source": [
        "!javac Car.java"
      ],
      "execution_count": 23,
      "outputs": []
    },
    {
      "cell_type": "markdown",
      "metadata": {
        "id": "c9b56980"
      },
      "source": [
        "## Generate code to create objects and call methods\n",
        "\n",
        "### Subtask:\n",
        "Generate code to create an object in both languages and call the respective display methods.\n"
      ]
    },
    {
      "cell_type": "markdown",
      "metadata": {
        "id": "14effaa2"
      },
      "source": [
        "**Reasoning**:\n",
        "Create a Python Car object and call the display_details method, then run the compiled Java code to create a Car object and call the displayDetails method to compare outputs.\n",
        "\n"
      ]
    },
    {
      "cell_type": "code",
      "metadata": {
        "colab": {
          "base_uri": "https://localhost:8080/"
        },
        "id": "893ba9ec",
        "outputId": "8c8546d4-9b0b-43a4-8211-84805d2bd63b"
      },
      "source": [
        "print(\"Python output:\")\n",
        "my_car = Car(\"Ford\", \"Mustang\", 1969)\n",
        "my_car.display_details()\n",
        "\n",
        "print(\"\\nJava output:\")\n",
        "!java Car"
      ],
      "execution_count": 24,
      "outputs": [
        {
          "output_type": "stream",
          "name": "stdout",
          "text": [
            "Python output:\n",
            "Brand: Ford, Model: Mustang, Year: 1969\n",
            "\n",
            "Java output:\n",
            "Brand: Toyota, Model: Camry, Year: 2022\n"
          ]
        }
      ]
    }
  ]
}