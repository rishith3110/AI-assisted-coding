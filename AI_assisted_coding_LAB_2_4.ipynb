{
  "nbformat": 4,
  "nbformat_minor": 0,
  "metadata": {
    "colab": {
      "provenance": [],
      "authorship_tag": "ABX9TyNEjx3Km2dwIMmlsEQY0fCq",
      "include_colab_link": true
    },
    "kernelspec": {
      "name": "python3",
      "display_name": "Python 3"
    },
    "language_info": {
      "name": "python"
    }
  },
  "cells": [
    {
      "cell_type": "markdown",
      "metadata": {
        "id": "view-in-github",
        "colab_type": "text"
      },
      "source": [
        "<a href=\"https://colab.research.google.com/github/rishith3110/AI-assisted-coding/blob/main/AI_assisted_coding_LAB_2_4.ipynb\" target=\"_parent\"><img src=\"https://colab.research.google.com/assets/colab-badge.svg\" alt=\"Open In Colab\"/></a>"
      ]
    },
    {
      "cell_type": "code",
      "execution_count": null,
      "metadata": {
        "id": "d0rsCRCntQTW"
      },
      "outputs": [],
      "source": []
    },
    {
      "cell_type": "markdown",
      "source": [
        "Task Description #1\n",
        "• Open Google Colab and use Google Gemini to generate Python code that performs sorting of a\n",
        "list using both the bubble sort algorithm and Python’s built-in sort() function. Compare the two\n",
        "implementations.\n",
        "\n",
        "prompt: generate a python code of that performs sorting of a\n",
        "list using both the bubble sort algorithm and Python’s built-in sort() function. Compare the two\n",
        "implementations."
      ],
      "metadata": {
        "id": "4a41fB0qtRgI"
      }
    },
    {
      "cell_type": "code",
      "source": [],
      "metadata": {
        "id": "TJ0T-cqFtbgQ"
      },
      "execution_count": null,
      "outputs": []
    },
    {
      "cell_type": "code",
      "metadata": {
        "colab": {
          "base_uri": "https://localhost:8080/"
        },
        "id": "cdfe5d35",
        "outputId": "3f74155f-9479-4361-98ae-b0d7417f86e9"
      },
      "source": [
        "import time\n",
        "import random\n",
        "\n",
        "def bubble_sort(data):\n",
        "    \"\"\"Sorts a list using the bubble sort algorithm.\"\"\"\n",
        "    n = len(data)\n",
        "    for i in range(n):\n",
        "        for j in range(0, n - i - 1):\n",
        "            if data[j] > data[j + 1]:\n",
        "                data[j], data[j + 1] = data[j + 1], data[j]\n",
        "    return data\n",
        "\n",
        "def python_sort(data):\n",
        "    \"\"\"Sorts a list using Python's built-in sort function.\"\"\"\n",
        "    data.sort()\n",
        "    return data\n",
        "\n",
        "# Generate a random list of numbers\n",
        "list_size = 1000\n",
        "random_list = [random.randint(0, list_size) for _ in range(list_size)]\n",
        "\n",
        "# Compare performance\n",
        "list_for_bubble = random_list[:]\n",
        "list_for_python = random_list[:]\n",
        "\n",
        "# Measure bubble sort time\n",
        "start_time = time.time()\n",
        "bubble_sort(list_for_bubble)\n",
        "end_time = time.time()\n",
        "bubble_sort_time = end_time - start_time\n",
        "print(f\"Bubble Sort Time: {bubble_sort_time:.6f} seconds\")\n",
        "\n",
        "# Measure Python's built-in sort time\n",
        "start_time = time.time()\n",
        "python_sort(list_for_python)\n",
        "end_time = time.time()\n",
        "python_sort_time = end_time - start_time\n",
        "print(f\"Python's Built-in Sort Time: {python_sort_time:.6f} seconds\")\n",
        "\n",
        "# Verify if both lists are sorted correctly\n",
        "print(f\"Bubble Sort Correct: {list_for_bubble == sorted(random_list)}\")\n",
        "print(f\"Python Sort Correct: {list_for_python == sorted(random_list)}\")"
      ],
      "execution_count": 1,
      "outputs": [
        {
          "output_type": "stream",
          "name": "stdout",
          "text": [
            "Bubble Sort Time: 0.051448 seconds\n",
            "Python's Built-in Sort Time: 0.000191 seconds\n",
            "Bubble Sort Correct: True\n",
            "Python Sort Correct: True\n"
          ]
        }
      ]
    },
    {
      "cell_type": "markdown",
      "source": [
        "descrption :\n",
        "Import necessary libraries:\n",
        "time is imported to measure execution time, and random is imported to generate a random list of numbers.\n",
        "\n",
        "bubble_sort(data) function:\n",
        "This function implements the bubble sort algorithm. It iterates through the list, repeatedly swapping adjacent elements if they are in the wrong order until the list is sorted.\n",
        "\n",
        "python_sort(data) function:\n",
        "This function uses Python's built-in sort() method to sort the list. This method is highly optimized and generally much faster than simple sorting algorithms like bubble sort.\n",
        "Generate a random list: A list of 1000 random integers is created for testing.\n",
        "\n",
        "Compare performance:\n",
        "Copies of the random list are made for each sorting method to ensure they operate on the same initial data.\n",
        "The time taken for bubble_sort to sort its copy is measured using time.time().\n",
        "The time taken for python_sort to sort its copy is also measured.\n",
        "The execution times for both methods are printed.\n",
        "\n",
        "Verify correctness:\n",
        "The code checks if the lists sorted by both methods are equal to a list sorted using Python's built-in sorted() function (which returns a new sorted list without modifying the original). This verifies that both sorting methods correctly sorted the data."
      ],
      "metadata": {
        "id": "8r7EWca2uwsK"
      }
    },
    {
      "cell_type": "markdown",
      "source": [
        "Task Description #2\n",
        "• In Colab, use Google Gemini to generate a Python function that takes a string and returns:\n",
        "The number of vowels, The number of consonants, The number of digits in the string.\n",
        "\n",
        "prompt : generate a python code function that takes a string and returns:\n",
        "The number of vowels, The number of consonants, The number of digits in the string."
      ],
      "metadata": {
        "id": "Pp5D8W5GvHRW"
      }
    },
    {
      "cell_type": "code",
      "metadata": {
        "colab": {
          "base_uri": "https://localhost:8080/"
        },
        "id": "91ede79e",
        "outputId": "45515686-3f8e-4c8d-a163-6c407094709a"
      },
      "source": [
        "def analyze_string(input_string):\n",
        "    \"\"\"\n",
        "    Analyzes a string and returns the count of vowels, consonants, and digits.\n",
        "\n",
        "    Args:\n",
        "        input_string: The string to analyze.\n",
        "\n",
        "    Returns:\n",
        "        A tuple containing the number of vowels, consonants, and digits.\n",
        "    \"\"\"\n",
        "    vowels = \"aeiouAEIOU\"\n",
        "    consonants = \"bcdfghjklmnpqrstvwxyzBCDFGHJKLMNPQRSTVWXYZ\"\n",
        "    digits = \"0123456789\"\n",
        "\n",
        "    vowel_count = 0\n",
        "    consonant_count = 0\n",
        "    digit_count = 0\n",
        "\n",
        "    for char in input_string:\n",
        "        if char in vowels:\n",
        "            vowel_count += 1\n",
        "        elif char in consonants:\n",
        "            consonant_count += 1\n",
        "        elif char in digits:\n",
        "            digit_count += 1\n",
        "\n",
        "    return vowel_count, consonant_count, digit_count\n",
        "\n",
        "# Example usage:\n",
        "test_string = \"Hello World 123!\"\n",
        "v, c, d = analyze_string(test_string)\n",
        "print(f\"String: '{test_string}'\")\n",
        "print(f\"Number of vowels: {v}\")\n",
        "print(f\"Number of consonants: {c}\")\n",
        "print(f\"Number of digits: {d}\")"
      ],
      "execution_count": 2,
      "outputs": [
        {
          "output_type": "stream",
          "name": "stdout",
          "text": [
            "String: 'Hello World 123!'\n",
            "Number of vowels: 3\n",
            "Number of consonants: 7\n",
            "Number of digits: 3\n"
          ]
        }
      ]
    },
    {
      "cell_type": "markdown",
      "source": [
        "descrption :\n",
        "def analyze_string(input_string)::\n",
        "This line defines the function named analyze_string that accepts one argument, input_string.\n",
        "Docstring: The triple-quoted string is a docstring that explains what the function does, its arguments (Args), and what it returns (Returns).\n",
        "\n",
        "Character Sets:\n",
        "It defines three strings: vowels, consonants, and digits containing the characters to look for. Both lowercase and uppercase letters are included for vowels and consonants.\n",
        "\n",
        "Initialize Counters: vowel_count, consonant_count, and digit_count are initialized to 0. These variables will store the counts.\n",
        "Iterate through the String: The for char in input_string: loop iterates through each character in the input string.\n",
        "\n",
        "Check Character Type:\n",
        "\n",
        "if char in vowels:: If the current character is found in the vowels string, vowel_count is incremented.\n",
        "\n",
        "elif char in consonants:: If the character is not a vowel but is found in the consonants string, consonant_count is incremented.\n",
        "\n",
        "elif char in digits:: If the character is neither a vowel nor a consonant but is found in the digits string, digit_count is incremented.\n",
        "\n",
        "Return Counts: return vowel_count, consonant_count, digit_count returns the final counts as a tuple.\n"
      ],
      "metadata": {
        "id": "J0HIi3mCvajK"
      }
    },
    {
      "cell_type": "markdown",
      "source": [
        "Task Description #3\n",
        "• Install and set up Cursor AI. Use it to generate a Python program that performs file handling:\n",
        "Create a text file\n",
        "Write sample text\n",
        "Read and display the content.\n",
        "\n",
        "prompt : generate a python code that performs file handling:\n",
        "Create a text file\n",
        "Write sample text\n",
        "Read and display the content."
      ],
      "metadata": {
        "id": "onTo5PLdvuVN"
      }
    },
    {
      "cell_type": "code",
      "metadata": {
        "colab": {
          "base_uri": "https://localhost:8080/"
        },
        "id": "1e071d8a",
        "outputId": "d61437c0-2e0f-42ad-c513-21c6e77e48e8"
      },
      "source": [
        "# Define the filename\n",
        "file_name = \"sample_file.txt\"\n",
        "\n",
        "# --- Create and Write to the file ---\n",
        "try:\n",
        "    # Open the file in write mode ('w')\n",
        "    with open(file_name, \"w\") as file:\n",
        "        # Write some sample text to the file\n",
        "        file.write(\"This is the first line.\\n\")\n",
        "        file.write(\"This is the second line with some numbers 123.\\n\")\n",
        "        file.write(\"And this is the third line!\")\n",
        "    print(f\"Successfully created and wrote to '{file_name}'\")\n",
        "\n",
        "except IOError as e:\n",
        "    print(f\"Error writing to file: {e}\")\n",
        "\n",
        "# --- Read and Display the content ---\n",
        "try:\n",
        "    # Open the file in read mode ('r')\n",
        "    with open(file_name, \"r\") as file:\n",
        "        # Read the entire content of the file\n",
        "        file_content = file.read()\n",
        "        # Display the content\n",
        "        print(f\"\\nContent of '{file_name}':\")\n",
        "        print(file_content)\n",
        "\n",
        "except FileNotFoundError:\n",
        "    print(f\"Error: The file '{file_name}' was not found.\")\n",
        "except IOError as e:\n",
        "    print(f\"Error reading file: {e}\")"
      ],
      "execution_count": 3,
      "outputs": [
        {
          "output_type": "stream",
          "name": "stdout",
          "text": [
            "Successfully created and wrote to 'sample_file.txt'\n",
            "\n",
            "Content of 'sample_file.txt':\n",
            "This is the first line.\n",
            "This is the second line with some numbers 123.\n",
            "And this is the third line!\n"
          ]
        }
      ]
    },
    {
      "cell_type": "markdown",
      "source": [
        "descrption:\n",
        "file_name = \"sample_file.txt\": This line defines a variable file_name to store the name of the file we'll be working with.\n",
        "\n",
        "Create and Write to the file:\n",
        "The try...except IOError block is used to handle potential errors that might occur during file operations.\n",
        "\n",
        "with open(file_name, \"w\") as file:: This opens the file named \"sample_file.txt\" in write mode (\"w\"). If the file doesn't exist, it will be created. If it does exist, its content will be overwritten. The with statement ensures that the file is automatically closed even if errors occur. The opened file object is assigned to the variable file.\n",
        "\n",
        "file.write(...): These lines write the specified strings into the opened file. The \\n character creates a new line.\n",
        "print(...): This line prints a success message to the console.\n",
        "\n",
        "Read and Display the content:\n",
        "The try...except FileNotFoundError and except IOError blocks handle potential errors that might occur during reading.\n",
        "\n",
        "with open(file_name, \"r\") as file:: This opens the same file in read mode (\"r\").\n",
        "file_content = file.read(): This reads the entire content of the file and stores it in the file_content variable.\n",
        "\n",
        "print(...): These lines print a header and then the content read from the file.\n",
        "Error Handling: The except blocks catch specific errors:\n",
        "\n",
        "IOError: Catches general input/output errors during writing or reading.\n",
        "FileNotFoundError: Catches the error if the file to be read does not exist."
      ],
      "metadata": {
        "id": "jhUQD1pJwuXD"
      }
    },
    {
      "cell_type": "markdown",
      "source": [
        "Task Description #4\n",
        "• Ask Google Gemini to generate a Python program that implements a simple calculator using\n",
        "functions (add, subtract, multiply, divide). Then, ask Gemini to explain how the code works.\n",
        "\n",
        "prompt: generate a python code of that implements a simple calculator using\n",
        "functions (add, subtract, multiply, divide). Then, ask Gemini to explain how the code works."
      ],
      "metadata": {
        "id": "gi6H-L7qxHZQ"
      }
    },
    {
      "cell_type": "markdown",
      "source": [],
      "metadata": {
        "id": "HfvMuW3SxYId"
      }
    },
    {
      "cell_type": "code",
      "metadata": {
        "colab": {
          "base_uri": "https://localhost:8080/"
        },
        "id": "ab5a5243",
        "outputId": "774c4611-2285-461e-fd3e-872a9947f4db"
      },
      "source": [
        "def add(x, y):\n",
        "  \"\"\"Adds two numbers\"\"\"\n",
        "  return x + y\n",
        "\n",
        "def subtract(x, y):\n",
        "  \"\"\"Subtracts two numbers\"\"\"\n",
        "  return x - y\n",
        "\n",
        "def multiply(x, y):\n",
        "  \"\"\"Multiplies two numbers\"\"\"\n",
        "  return x * y\n",
        "\n",
        "def divide(x, y):\n",
        "  \"\"\"Divides two numbers, handles division by zero\"\"\"\n",
        "  if y == 0:\n",
        "    return \"Error: Division by zero\"\n",
        "  return x / y\n",
        "\n",
        "# Example usage\n",
        "num1 = 10\n",
        "num2 = 5\n",
        "\n",
        "print(f\"{num1} + {num2} = {add(num1, num2)}\")\n",
        "print(f\"{num1} - {num2} = {subtract(num1, num2)}\")\n",
        "print(f\"{num1} * {num2} = {multiply(num1, num2)}\")\n",
        "print(f\"{num1} / {num2} = {divide(num1, num2)}\")\n",
        "\n",
        "num3 = 10\n",
        "num4 = 0\n",
        "print(f\"{num3} / {num4} = {divide(num3, num4)}\")"
      ],
      "execution_count": 4,
      "outputs": [
        {
          "output_type": "stream",
          "name": "stdout",
          "text": [
            "10 + 5 = 15\n",
            "10 - 5 = 5\n",
            "10 * 5 = 50\n",
            "10 / 5 = 2.0\n",
            "10 / 0 = Error: Division by zero\n"
          ]
        }
      ]
    },
    {
      "cell_type": "markdown",
      "source": [
        "descrption :\n",
        "\n",
        "def add(x, y):: This function takes two arguments, x and y, and returns their sum. The docstring explains its purpose.\n",
        "\n",
        "def subtract(x, y):: This function takes two arguments, x and y, and returns their difference. The docstring explains its purpose.\n",
        "\n",
        "def multiply(x, y):: This function takes two arguments, x and y, and returns their product. The docstring explains its purpose.\n",
        "\n",
        "def divide(x, y):: This function takes two arguments, x and y, and returns their quotient. It includes a check to see if y is 0. If it is, it returns the string \"Error: Division by zero\" to prevent a division by zero error. Otherwise, it returns the result of the division. The docstring explains its purpose and the error handling."
      ],
      "metadata": {
        "id": "4ItR6rkAxuRs"
      }
    },
    {
      "cell_type": "markdown",
      "source": [
        "Task Description #5\n",
        "• Use Cursor AI to create a Python program that checks if a given year is a leap year or not. Try\n",
        "different prompt styles and see how Cursor modifies its code suggestions.\n",
        "\n",
        "prompt : generate a python code that checks if a given year is a leap year or not. Try\n",
        "different prompt styles and see how Cursor modifies its code suggestions."
      ],
      "metadata": {
        "id": "pDj2RdgqyAcm"
      }
    },
    {
      "cell_type": "code",
      "metadata": {
        "colab": {
          "base_uri": "https://localhost:8080/"
        },
        "id": "d292ba82",
        "outputId": "abda745c-e7b5-4a07-d143-3eff5266534f"
      },
      "source": [
        "def is_leap_year(year):\n",
        "  \"\"\"Checks if a given year is a leap year.\"\"\"\n",
        "  # Leap years are divisible by 4\n",
        "  # but not by 100, unless they are also divisible by 400.\n",
        "  if (year % 4 == 0 and year % 100 != 0) or (year % 400 == 0):\n",
        "    return True\n",
        "  else:\n",
        "    return False\n",
        "\n",
        "# Example usage\n",
        "test_year1 = 2000\n",
        "test_year2 = 2023\n",
        "test_year3 = 1900\n",
        "test_year4 = 2024\n",
        "\n",
        "print(f\"{test_year1} is a leap year: {is_leap_year(test_year1)}\")\n",
        "print(f\"{test_year2} is a leap year: {is_leap_year(test_year2)}\")\n",
        "print(f\"{test_year3} is a leap year: {is_leap_year(test_year3)}\")\n",
        "print(f\"{test_year4} is a leap year: {is_leap_year(test_year4)}\")"
      ],
      "execution_count": 5,
      "outputs": [
        {
          "output_type": "stream",
          "name": "stdout",
          "text": [
            "2000 is a leap year: True\n",
            "2023 is a leap year: False\n",
            "1900 is a leap year: False\n",
            "2024 is a leap year: True\n"
          ]
        }
      ]
    },
    {
      "cell_type": "markdown",
      "source": [
        "descrption :\n",
        "\n",
        "def is_leap_year(year):: This line defines the function named is_leap_year that takes one argument, year.\n",
        "Docstring: The triple-quoted string is a docstring that explains what the function does.\n",
        "\n",
        "Leap Year Logic: The core of the function is the if condition:\n",
        "year % 4 == 0: Checks if the year is divisible by 4.\n",
        "year % 100 != 0: Checks if the year is NOT divisible by 100.\n",
        "year % 400 == 0: Checks if the year IS divisible by 400.\n",
        "The condition (year % 4 == 0 and year % 100 != 0) or (year % 400 == 0) implements the rules for determining a leap year: a year is a leap year if it is divisible by 4, UNLESS it is divisible by 100 but NOT by 400.\n",
        "\n",
        "Return Value:\n",
        "If the condition is True, the function returns True, indicating it's a leap year.\n",
        "If the condition is False, the function returns False, indicating it's not a leap year."
      ],
      "metadata": {
        "id": "5Ysw4uq6ym7r"
      }
    }
  ]
}